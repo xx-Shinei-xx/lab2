{
 cells: [
  {
   cell_type: code,
   execution_count: 1,
   metadata: {},
   outputs: [
    {
     data: {
      application/vnd.jupyter.widget-view+json: {
       model_id: 254fe5ef51c94142b73387abac693493,
       version_major: 2,
       version_minor: 0
      },
      text/plain: [
       interactive(children=(IntSlider(value=50, description='m'), ColorPicker(value='blue', description='Color del h…
      ]
     },
     metadata: {},
     output_type: display_data
    },
    {
     data: {
      text/plain: [
       <function __main__.plot_histogram(m, hist_color, fit_color, mean_color, std_dev_color)>
      ]
     },
     execution_count: 1,
     metadata: {},
     output_type: execute_result
    }
   ],
   source: [
    import numpy as np\n,
    import matplotlib.pyplot as plt\n,
    from scipy.stats import norm\n,
    from scipy.optimize import curve_fit\n,
    #para los widgets\n,
    from ipywidgets import interact, ColorPicker\n,
    \n,
    \n,
    \n,
    \n,
    # para el histograma y los valores de m\n,
     # Para cambiar colores https://stackoverflow.com/questions/42172440/how-to-set-color-in-matplotlib-histograms\n,
    \n,
    caras = [\n,
        2, 4, 5, 3, 7, 3, 4, 6, 4, 4, 3, 5, 3, 2, 3, 4, 8, 6, 4, 2, 5, 5, 3, 8, 4,\n,
        7, 4, 6, 3, 5, 8, 7, 3, 3, 6, 5, 4, 4, 5, 2, 5, 3, 7, 6, 3, 6, 5, 2, 4, 6,\n,
        5, 4, 6, 3, 6, 5, 3, 7, 8, 7, 4, 4, 4, 8, 5, 4, 3, 5, 7, 5, 2, 2, 3, 5, 1,\n,
        6, 4, 6, 4, 4, 3, 3, 6, 6, 3, 4, 5, 5, 5, 7, 6, 7, 4, 3, 5, 4, 5, 7, 6, 5\n,
    ]\n,
    \n,
    def plot_histogram(m, hist_color, fit_color, mean_color, std_dev_color):\n,
        num = caras\n,
    \n,
        # calcular la media y la desviación estándar\n,
        valor_min= np.mean(num)\n,
        std_dev = np.std(num)\n,
    \n,
       # histograma\n,
        plt.figure(figsize=(10, 6))\n,
        plt.hist(num, bins=np.arange(0, m+2)-0.5, edgecolor='black', alpha=0.7, density=True, color=hist_color, label='Datos experimentales')\n,
    \n,
    \n,
    \n,
       # para el fit binomial\n,
        def gaussian(x, mu, sigma):\n,
            return 1/(sigma*np.sqrt(2*np.pi)) * np.exp(-(x - mu)**2 / (2*sigma**2))\n,
    \n,
        # para los valores de m y p\n,
        v_m = m\n,
        v_p = 0.5\n,
    \n,
        # fit de la curva\n,
        bin_centers = 0.5*(np.arange(0, m+1) + np.arange(1, m+2))\n,
        params, cov = curve_fit(gaussian, bin_centers, np.histogram(num, bins=np.arange(0, m+2)-0.5, density=True)[0])\n,
    \n,
    \n,
        # para graficar la curva\n,
        x_values = np.linspace(0, m+1, 1000)\n,
        plt.plot(x_values, gaussian(x_values, *params), color=fit_color, linestyle='--', label=' Fit de la distribución gaussiana')\n,
    \n,
       # Graficar la media y la desviación estándar\n,
        plt.axvline(x=valor_min, color=mean_color, linestyle='-', linewidth=2, label=f'Valor mínimo: {valor_min:.2f}')\n,
        plt.axvline(x=valor_min + std_dev, color=std_dev_color, linestyle='-', linewidth=2, label=f'Desviación estándar: {std_dev:.2f}')\n,
    \n,
     # para los textos de la grafica\n,
        plt.xlabel('Número de caras')\n,
        plt.ylabel('Probabilidad')\n,
        plt.title('Conteo de caras')\n,
        plt.xticks(np.arange(0, m+2))\n,
        plt.legend()\n,
        plt.grid(True)\n,
        plt.show()\n,
    \n,
        print(\ Parámetros del fit de distribución binomial: \, params)\n,
    \n,
    # widgets\n,
    interact(plot_histogram,\n,
             m=(0, 100, 1),\n,
             hist_color=ColorPicker(value='blue', description='Color del histograma'),\n,
             fit_color=ColorPicker(value='red', description='Color del fit'),\n,
             mean_color=ColorPicker(value='green', description='Color del valor mínimo'),\n,
             std_dev_color=ColorPicker(value='orange', description='Color de la desviación estándar'))
   ]
  }
 ],
 metadata: {
  kernelspec: {
   display_name: Python 3,
   language: python,
   name: python3
  },
  language_info: {
   codemirror_mode: {
    name: ipython,
    version: 3
   },
   file_extension: .py,
   mimetype: text/x-python,
   name: python,
   nbconvert_exporter: python,
   pygments_lexer: ipython3,
   version: 3.10.0
  }
 },
 nbformat: 4,
 nbformat_minor: 2
}
